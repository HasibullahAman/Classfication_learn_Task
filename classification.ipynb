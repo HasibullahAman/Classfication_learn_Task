{
 "cells": [
  {
   "cell_type": "code",
   "execution_count": 28,
   "metadata": {},
   "outputs": [],
   "source": [
    "#import Library\n",
    "import pandas as pd\n",
    "import numpy as np\n",
    "import seaborn as sns\n"
   ]
  },
  {
   "cell_type": "code",
   "execution_count": 29,
   "metadata": {},
   "outputs": [],
   "source": [
    "# import librarys\n",
    "from sklearn.model_selection import train_test_split\n",
    "from sklearn.linear_model import LogisticRegression\n",
    "from sklearn.metrics import accuracy_score, confusion_matrix"
   ]
  },
  {
   "cell_type": "code",
   "execution_count": 30,
   "metadata": {},
   "outputs": [
    {
     "data": {
      "text/html": [
       "<div>\n",
       "<style scoped>\n",
       "    .dataframe tbody tr th:only-of-type {\n",
       "        vertical-align: middle;\n",
       "    }\n",
       "\n",
       "    .dataframe tbody tr th {\n",
       "        vertical-align: top;\n",
       "    }\n",
       "\n",
       "    .dataframe thead th {\n",
       "        text-align: right;\n",
       "    }\n",
       "</style>\n",
       "<table border=\"1\" class=\"dataframe\">\n",
       "  <thead>\n",
       "    <tr style=\"text-align: right;\">\n",
       "      <th></th>\n",
       "      <th>age</th>\n",
       "      <th>JobType</th>\n",
       "      <th>EdType</th>\n",
       "      <th>maritalstatus</th>\n",
       "      <th>occupation</th>\n",
       "      <th>relationship</th>\n",
       "      <th>race</th>\n",
       "      <th>gender</th>\n",
       "      <th>capitalgain</th>\n",
       "      <th>capitalloss</th>\n",
       "      <th>hoursperweek</th>\n",
       "      <th>nativecountry</th>\n",
       "      <th>SalStat</th>\n",
       "    </tr>\n",
       "  </thead>\n",
       "  <tbody>\n",
       "    <tr>\n",
       "      <th>0</th>\n",
       "      <td>45</td>\n",
       "      <td>Private</td>\n",
       "      <td>HS-grad</td>\n",
       "      <td>Divorced</td>\n",
       "      <td>Adm-clerical</td>\n",
       "      <td>Not-in-family</td>\n",
       "      <td>White</td>\n",
       "      <td>Female</td>\n",
       "      <td>0</td>\n",
       "      <td>0</td>\n",
       "      <td>28</td>\n",
       "      <td>United-States</td>\n",
       "      <td>less than or equal to 50,000</td>\n",
       "    </tr>\n",
       "    <tr>\n",
       "      <th>1</th>\n",
       "      <td>24</td>\n",
       "      <td>Federal-gov</td>\n",
       "      <td>HS-grad</td>\n",
       "      <td>Never-married</td>\n",
       "      <td>Armed-Forces</td>\n",
       "      <td>Own-child</td>\n",
       "      <td>White</td>\n",
       "      <td>Male</td>\n",
       "      <td>0</td>\n",
       "      <td>0</td>\n",
       "      <td>40</td>\n",
       "      <td>United-States</td>\n",
       "      <td>less than or equal to 50,000</td>\n",
       "    </tr>\n",
       "  </tbody>\n",
       "</table>\n",
       "</div>"
      ],
      "text/plain": [
       "   age       JobType    EdType   maritalstatus     occupation    relationship  \\\n",
       "0   45       Private   HS-grad        Divorced   Adm-clerical   Not-in-family   \n",
       "1   24   Federal-gov   HS-grad   Never-married   Armed-Forces       Own-child   \n",
       "\n",
       "     race   gender  capitalgain  capitalloss  hoursperweek   nativecountry  \\\n",
       "0   White   Female            0            0            28   United-States   \n",
       "1   White     Male            0            0            40   United-States   \n",
       "\n",
       "                         SalStat  \n",
       "0   less than or equal to 50,000  \n",
       "1   less than or equal to 50,000  "
      ]
     },
     "execution_count": 30,
     "metadata": {},
     "output_type": "execute_result"
    }
   ],
   "source": [
    "    # Read the dataSet\n",
    "too = pd.read_csv(\"./income.csv\",na_values=\" ?\")\n",
    "too.head(2)"
   ]
  },
  {
   "cell_type": "code",
   "execution_count": 31,
   "metadata": {},
   "outputs": [],
   "source": [
    "tot = too.copy()"
   ]
  },
  {
   "cell_type": "code",
   "execution_count": 32,
   "metadata": {},
   "outputs": [
    {
     "data": {
      "text/plain": [
       "age                 0\n",
       "JobType          1809\n",
       "EdType              0\n",
       "maritalstatus       0\n",
       "occupation       1816\n",
       "relationship        0\n",
       "race                0\n",
       "gender              0\n",
       "capitalgain         0\n",
       "capitalloss         0\n",
       "hoursperweek        0\n",
       "nativecountry       0\n",
       "SalStat             0\n",
       "dtype: int64"
      ]
     },
     "execution_count": 32,
     "metadata": {},
     "output_type": "execute_result"
    }
   ],
   "source": [
    "tot.isnull().sum()"
   ]
  },
  {
   "cell_type": "code",
   "execution_count": 33,
   "metadata": {},
   "outputs": [
    {
     "name": "stdout",
     "output_type": "stream",
     "text": [
      "       age JobType         EdType        maritalstatus occupation  \\\n",
      "8       17     NaN           11th        Never-married        NaN   \n",
      "17      32     NaN   Some-college   Married-civ-spouse        NaN   \n",
      "29      22     NaN   Some-college        Never-married        NaN   \n",
      "42      52     NaN           12th        Never-married        NaN   \n",
      "44      63     NaN        1st-4th   Married-civ-spouse        NaN   \n",
      "...    ...     ...            ...                  ...        ...   \n",
      "31892   59     NaN      Bachelors   Married-civ-spouse        NaN   \n",
      "31934   20     NaN        HS-grad        Never-married        NaN   \n",
      "31945   28     NaN   Some-college   Married-civ-spouse        NaN   \n",
      "31967   80     NaN        HS-grad              Widowed        NaN   \n",
      "31968   17     NaN           11th        Never-married        NaN   \n",
      "\n",
      "          relationship    race   gender  capitalgain  capitalloss  \\\n",
      "8            Own-child   White   Female            0            0   \n",
      "17             Husband   White     Male            0            0   \n",
      "29           Own-child   White     Male            0            0   \n",
      "42      Other-relative   Black     Male          594            0   \n",
      "44             Husband   White     Male            0            0   \n",
      "...                ...     ...      ...          ...          ...   \n",
      "31892          Husband   White     Male            0            0   \n",
      "31934   Other-relative   White   Female            0            0   \n",
      "31945             Wife   White   Female            0         1887   \n",
      "31967    Not-in-family   White     Male            0            0   \n",
      "31968        Own-child   White     Male            0            0   \n",
      "\n",
      "       hoursperweek   nativecountry                        SalStat  \n",
      "8                 5   United-States   less than or equal to 50,000  \n",
      "17               40   United-States   less than or equal to 50,000  \n",
      "29               40   United-States   less than or equal to 50,000  \n",
      "42               40   United-States   less than or equal to 50,000  \n",
      "44               35   United-States   less than or equal to 50,000  \n",
      "...             ...             ...                            ...  \n",
      "31892            40   United-States            greater than 50,000  \n",
      "31934            35   United-States   less than or equal to 50,000  \n",
      "31945            40   United-States            greater than 50,000  \n",
      "31967            24   United-States   less than or equal to 50,000  \n",
      "31968            40   United-States   less than or equal to 50,000  \n",
      "\n",
      "[1816 rows x 13 columns]\n"
     ]
    }
   ],
   "source": [
    "# remove the missing Value\n",
    "missing = tot[tot.isnull().any(axis=1)]\n",
    "print(missing)"
   ]
  },
  {
   "cell_type": "code",
   "execution_count": 34,
   "metadata": {},
   "outputs": [
    {
     "name": "stdout",
     "output_type": "stream",
     "text": [
      "       age       JobType         EdType        maritalstatus  \\\n",
      "0       45       Private        HS-grad             Divorced   \n",
      "1       24   Federal-gov        HS-grad        Never-married   \n",
      "2       44       Private   Some-college   Married-civ-spouse   \n",
      "3       27       Private            9th        Never-married   \n",
      "4       20       Private   Some-college        Never-married   \n",
      "...    ...           ...            ...                  ...   \n",
      "31973   34     Local-gov        HS-grad        Never-married   \n",
      "31974   34     Local-gov   Some-college        Never-married   \n",
      "31975   23       Private   Some-college   Married-civ-spouse   \n",
      "31976   42     Local-gov   Some-college   Married-civ-spouse   \n",
      "31977   29       Private      Bachelors        Never-married   \n",
      "\n",
      "             occupation     relationship    race   gender  capitalgain  \\\n",
      "0          Adm-clerical    Not-in-family   White   Female            0   \n",
      "1          Armed-Forces        Own-child   White     Male            0   \n",
      "2        Prof-specialty          Husband   White     Male            0   \n",
      "3          Craft-repair   Other-relative   White     Male            0   \n",
      "4                 Sales    Not-in-family   White     Male            0   \n",
      "...                 ...              ...     ...      ...          ...   \n",
      "31973   Farming-fishing    Not-in-family   Black     Male          594   \n",
      "31974   Protective-serv    Not-in-family   White   Female            0   \n",
      "31975      Adm-clerical          Husband   White     Male            0   \n",
      "31976      Adm-clerical             Wife   White   Female            0   \n",
      "31977    Prof-specialty    Not-in-family   White     Male            0   \n",
      "\n",
      "       capitalloss  hoursperweek   nativecountry  \\\n",
      "0                0            28   United-States   \n",
      "1                0            40   United-States   \n",
      "2                0            40   United-States   \n",
      "3                0            40          Mexico   \n",
      "4                0            35   United-States   \n",
      "...            ...           ...             ...   \n",
      "31973            0            60   United-States   \n",
      "31974            0            40   United-States   \n",
      "31975            0            40   United-States   \n",
      "31976            0            40   United-States   \n",
      "31977            0            40   United-States   \n",
      "\n",
      "                             SalStat  \n",
      "0       less than or equal to 50,000  \n",
      "1       less than or equal to 50,000  \n",
      "2                greater than 50,000  \n",
      "3       less than or equal to 50,000  \n",
      "4       less than or equal to 50,000  \n",
      "...                              ...  \n",
      "31973   less than or equal to 50,000  \n",
      "31974   less than or equal to 50,000  \n",
      "31975   less than or equal to 50,000  \n",
      "31976   less than or equal to 50,000  \n",
      "31977   less than or equal to 50,000  \n",
      "\n",
      "[30162 rows x 13 columns]\n"
     ]
    }
   ],
   "source": [
    "# Delete Missing Value\n",
    "tot1=tot.dropna(axis=0)\n",
    "print(tot1)"
   ]
  },
  {
   "cell_type": "code",
   "execution_count": 35,
   "metadata": {},
   "outputs": [],
   "source": [
    "tot = tot1.copy()"
   ]
  },
  {
   "cell_type": "code",
   "execution_count": 36,
   "metadata": {},
   "outputs": [
    {
     "data": {
      "text/plain": [
       "age              0\n",
       "JobType          0\n",
       "EdType           0\n",
       "maritalstatus    0\n",
       "occupation       0\n",
       "relationship     0\n",
       "race             0\n",
       "gender           0\n",
       "capitalgain      0\n",
       "capitalloss      0\n",
       "hoursperweek     0\n",
       "nativecountry    0\n",
       "SalStat          0\n",
       "dtype: int64"
      ]
     },
     "execution_count": 36,
     "metadata": {},
     "output_type": "execute_result"
    }
   ],
   "source": [
    "# We can see All of missing Data Deleted\n",
    "tot.isnull().sum()"
   ]
  },
  {
   "cell_type": "code",
   "execution_count": 37,
   "metadata": {},
   "outputs": [
    {
     "data": {
      "text/plain": [
       " Private             22286\n",
       " Self-emp-not-inc     2499\n",
       " Local-gov            2067\n",
       " State-gov            1279\n",
       " Self-emp-inc         1074\n",
       " Federal-gov           943\n",
       " Without-pay            14\n",
       "Name: JobType, dtype: int64"
      ]
     },
     "execution_count": 37,
     "metadata": {},
     "output_type": "execute_result"
    }
   ],
   "source": [
    "tot[\"JobType\"].value_counts()"
   ]
  },
  {
   "cell_type": "code",
   "execution_count": 38,
   "metadata": {},
   "outputs": [],
   "source": [
    "corrlation = tot.corr()"
   ]
  },
  {
   "cell_type": "code",
   "execution_count": 39,
   "metadata": {},
   "outputs": [
    {
     "name": "stdout",
     "output_type": "stream",
     "text": [
      "                   age  capitalgain  capitalloss  hoursperweek\n",
      "age           1.000000     0.080154     0.060165      0.101599\n",
      "capitalgain   0.080154     1.000000    -0.032229      0.080432\n",
      "capitalloss   0.060165    -0.032229     1.000000      0.052417\n",
      "hoursperweek  0.101599     0.080432     0.052417      1.000000\n"
     ]
    }
   ],
   "source": [
    "print(corrlation)"
   ]
  },
  {
   "cell_type": "code",
   "execution_count": 40,
   "metadata": {},
   "outputs": [
    {
     "data": {
      "text/plain": [
       "Index(['age', 'JobType', 'EdType', 'maritalstatus', 'occupation',\n",
       "       'relationship', 'race', 'gender', 'capitalgain', 'capitalloss',\n",
       "       'hoursperweek', 'nativecountry', 'SalStat'],\n",
       "      dtype='object')"
      ]
     },
     "execution_count": 40,
     "metadata": {},
     "output_type": "execute_result"
    }
   ],
   "source": [
    "tot.columns"
   ]
  },
  {
   "cell_type": "code",
   "execution_count": 51,
   "metadata": {},
   "outputs": [
    {
     "name": "stdout",
     "output_type": "stream",
     "text": [
      "col_0       count       All\n",
      "gender                     \n",
      " Female  0.324315  0.324315\n",
      " Male    0.675685  0.675685\n",
      "All      1.000000  1.000000\n"
     ]
    }
   ],
   "source": [
    "gender = pd.crosstab(index=tot[\"gender\"],\n",
    "                    columns=\"count\",\n",
    "                     margins=True,\n",
    "                    normalize=True\n",
    "                    )\n",
    "print(gender)"
   ]
  },
  {
   "cell_type": "code",
   "execution_count": 52,
   "metadata": {},
   "outputs": [
    {
     "name": "stdout",
     "output_type": "stream",
     "text": [
      "SalStat   greater than 50,000   less than or equal to 50,000\n",
      "gender                                                      \n",
      " Female              0.113678                       0.886322\n",
      " Male                0.313837                       0.686163\n",
      "All                  0.248922                       0.751078\n"
     ]
    }
   ],
   "source": [
    "sal = pd.crosstab( index =tot[\"gender\"],\n",
    "                   columns=tot[\"SalStat\"],\n",
    "                   margins=True,\n",
    "                   normalize = \"index\")\n",
    "\n",
    "\n",
    "print(sal)"
   ]
  },
  {
   "cell_type": "code",
   "execution_count": 54,
   "metadata": {},
   "outputs": [
    {
     "data": {
      "image/png": "[encoded data removed]",
      "text/plain": [
       "<Figure size 432x288 with 1 Axes>"
      ]
     },
     "metadata": {
      "needs_background": "light"
     },
     "output_type": "display_data"
    }
   ],
   "source": [
    "Salstat = sns.countplot(tot[\"SalStat\"])"
   ]
  },
  {
   "cell_type": "code",
   "execution_count": null,
   "metadata": {},
   "outputs": [],
   "source": []
  },
  {
   "cell_type": "code",
   "execution_count": null,
   "metadata": {},
   "outputs": [],
   "source": []
  },
  {
   "cell_type": "code",
   "execution_count": null,
   "metadata": {},
   "outputs": [],
   "source": []
  },
  {
   "cell_type": "code",
   "execution_count": null,
   "metadata": {},
   "outputs": [],
   "source": []
  },
  {
   "cell_type": "code",
   "execution_count": null,
   "metadata": {},
   "outputs": [],
   "source": []
  },
  {
   "cell_type": "code",
   "execution_count": null,
   "metadata": {},
   "outputs": [],
   "source": []
  },
  {
   "cell_type": "code",
   "execution_count": null,
   "metadata": {},
   "outputs": [],
   "source": []
  },
  {
   "cell_type": "code",
   "execution_count": null,
   "metadata": {},
   "outputs": [],
   "source": []
  },
  {
   "cell_type": "code",
   "execution_count": null,
   "metadata": {},
   "outputs": [],
   "source": []
  }
 ],
 "metadata": {
  "kernelspec": {
   "display_name": "Python 3",
   "language": "python",
   "name": "python3"
  },
  "language_info": {
   "codemirror_mode": {
    "name": "ipython",
    "version": 3
   },
   "file_extension": ".py",
   "mimetype": "text/x-python",
   "name": "python",
   "nbconvert_exporter": "python",
   "pygments_lexer": "ipython3",
   "version": "3.8.3"
  }
 },
 "nbformat": 4,
 "nbformat_minor": 4
}
